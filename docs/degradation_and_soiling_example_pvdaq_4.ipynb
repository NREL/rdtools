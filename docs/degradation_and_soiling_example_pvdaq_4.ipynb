{
 "cells": [
  {
   "cell_type": "markdown",
   "metadata": {},
   "source": [
    "# Degradation and soiling example with clearsky workflow\n",
    "\n",
    "\n",
    "This jupyter notebook is intended to the RdTools analysis workflow.  In addition, the notebook demonstrates the effects of changes in the workflow. For a consistent experience, we recommend installing the specific versions of packages used to develop this notebook. This can be achieved in your environment by running `pip install -r requirements.txt` followed by `pip install -r docs/notebook_requirements.txt` from the base directory. (RdTools must also be separately installed.) These environments and examples are tested with Python 3.7.\n",
    "\n",
    "The calculations consist of several steps illustrated here:\n",
    "<ol start=\"0\">\n",
    "  <li><b>Import and preliminary calculations</b></li>\n",
    "  <li><b>Normalize</b> data using a performance metric</li>\n",
    "  <li><b>Filter</b> data that creates bias</li>\n",
    "  <li><b>Aggregate data</b></li>\n",
    "  <li> <b>Analyze</b> aggregated data to estimate the degradation rate</li>\n",
    "  <li> <b>Analyze</b> aggregated data to estimate the soiling loss</li>\n",
    "</ol>\n",
    "\n",
    "After demonstrating these steps using sensor data, a modified version of the workflow is illustrated using modeled clear sky irradiance and temperature. The results from the two methods are compared at the end.\n",
    "\n",
    "This notebook works with data from the NREL PVDAQ `[4] NREL x-Si #1` system.  Note that because this system does not experience significant soiling, the dataset contains a synthesized soiling signal for use in the soiling section of the example.  This notebook automatically downloads and locally caches the dataset used in this example. The data can also be found on the DuraMAT Datahub (https://datahub.duramat.org/dataset/pvdaq-time-series-with-soiling-signal)."
   ]
  },
  {
   "cell_type": "code",
   "execution_count": 1,
   "metadata": {},
   "outputs": [],
   "source": [
    "from datetime import timedelta\n",
    "import pandas as pd\n",
    "import matplotlib.pyplot as plt\n",
    "import numpy as np\n",
    "import pvlib\n",
    "import rdtools\n",
    "%matplotlib inline"
   ]
  },
  {
   "cell_type": "code",
   "execution_count": 2,
   "metadata": {},
   "outputs": [],
   "source": [
    "#Update the style of plots\n",
    "import matplotlib\n",
    "matplotlib.rcParams.update({'font.size': 12,\n",
    "                           'figure.figsize': [4.5, 3],\n",
    "                           'lines.markeredgewidth': 0,\n",
    "                           'lines.markersize': 2\n",
    "                           })\n",
    "# Register time series plotting in pandas > 1.0\n",
    "from pandas.plotting import register_matplotlib_converters\n",
    "register_matplotlib_converters()"
   ]
  },
  {
   "cell_type": "code",
   "execution_count": 3,
   "metadata": {},
   "outputs": [],
   "source": [
    "# Set the random seed for numpy to ensure consistent results\n",
    "np.random.seed(0)"
   ]
  },
  {
   "cell_type": "markdown",
   "metadata": {},
   "source": [
    "## 0: Import and preliminary calculations\n",
    "\n",
    "\n",
    "This section prepares the data necessary for an `rdtools` calculation. The first step of the `rdtools` workflow is normalization, which requires a time series of energy yield, a time series of cell temperature, and a time series of irradiance, along with some metadata (see Step 1: Normalize)\n",
    "\n",
    "The following section loads the data, adjusts units where needed, and renames the critical columns. The ambient temperature sensor data source is converted into estimated cell temperature.  This dataset already has plane-of-array irradiance data, so no transposition is necessary.\n",
    "\n",
    "A common challenge is handling datasets with and without daylight savings time. Make sure to specify a `pytz` timezone that does or does not include daylight savings time as appropriate for your dataset.\n",
    "\n",
    "<b>The steps of this section may change depending on your data source or the system being considered.</b>  Transposition of irradiance and modeling of cell temperature are generally outside the scope of `rdtools`. A variety of tools for these calculations are available in [pvlib](https://github.com/pvlib/pvlib-python)."
   ]
  },
  {
   "cell_type": "code",
   "execution_count": null,
   "metadata": {},
   "outputs": [],
   "source": [
    "# Import the example data\n",
    "file_url = ('https://datahub.duramat.org/dataset/a49bb656-7b36-'\n",
    "            '437a-8089-1870a40c2a7d/resource/5059bc22-640d-4dd4'\n",
    "            '-b7b1-1e71da15be24/download/pvdaq_system_4_2010-2016'\n",
    "            '_subset_soilsignal.csv')\n",
    "cache_file = 'PVDAQ_system_4_2010-2016_subset_soilsignal.pickle'\n",
    "\n",
    "try:\n",
    "    df = pd.read_pickle(cache_file)\n",
    "except FileNotFoundError:\n",
    "    df = pd.read_csv(file_url, index_col=0, parse_dates=True)\n",
    "    df.to_pickle(cache_file)\n",
    "\n",
    "df = df.rename(columns = {\n",
    "    'ac_power':'power_ac',\n",
    "    'wind_speed': 'wind_speed',\n",
    "    'ambient_temp': 'Tamb',\n",
    "    'poa_irradiance': 'poa',\n",
    "})\n",
    "\n",
    "# Specify the Metadata\n",
    "meta = {\"latitude\": 39.7406,\n",
    "        \"longitude\": -105.1774,\n",
    "        \"timezone\": 'Etc/GMT+7',\n",
    "        \"gamma_pdc\": -0.005,\n",
    "        \"azimuth\": 180,\n",
    "        \"tilt\": 40,\n",
    "        \"power_dc_rated\": 1000.0,\n",
    "        \"temp_model_params\":\n",
    "        pvlib.temperature.TEMPERATURE_MODEL_PARAMETERS['sapm']['open_rack_glass_polymer']}\n",
    "\n",
    "df.index = df.index.tz_localize(meta['timezone'])\n",
    "\n",
    "loc = pvlib.location.Location(meta['latitude'], meta['longitude'], tz = meta['timezone'])\n",
    "sun = loc.get_solarposition(df.index)\n",
    "\n",
    "# There is some missing data, but we can infer the frequency from\n",
    "# the first several data points\n",
    "freq = pd.infer_freq(df.index[:10])\n",
    "\n",
    "# Then set the frequency of the dataframe.\n",
    "# It is recommended not to up- or downsample at this step\n",
    "# but rather to use interpolate to regularize the time series\n",
    "# to its dominant or underlying frequency. Interpolate is not\n",
    "# generally recommended for downsampling in this application.\n",
    "df = rdtools.interpolate(df, freq)\n",
    "\n",
    "# Calculate cell temperature\n",
    "df['Tcell'] = pvlib.temperature.sapm_cell(df.poa, df.Tamb,\n",
    "                                          df.wind_speed, **meta['temp_model_params'])\n",
    "\n",
    "# plot the AC power time series\n",
    "fig, ax = plt.subplots(figsize=(4,3))\n",
    "ax.plot(df.index, df.power_ac, 'o', alpha=0.01)\n",
    "ax.set_ylim(0,1500)\n",
    "fig.autofmt_xdate()\n",
    "ax.set_ylabel('AC Power (W)');"
   ]
  },
  {
   "cell_type": "markdown",
   "metadata": {},
   "source": [
    "## 1: Normalize\n",
    "\n",
    "Data normalization is achieved with `rdtools.normalize_with_expected_power()`. This function can be used to normalize to any modeled or expected power. Note that realized PV output can be given as energy, rather than power, by using an optional key word argument. "
   ]
  },
  {
   "cell_type": "code",
   "execution_count": null,
   "metadata": {},
   "outputs": [],
   "source": [
    "# Calculate the expected power with a simple PVWatts DC model\n",
    "modeled_power = pvlib.pvsystem.pvwatts_dc(df['poa'], df['Tcell'], meta['power_dc_rated'],\n",
    "                                          meta['gamma_pdc'], 25.0 )\n",
    "\n",
    "# Calculate the normalization, the function also returns the relevant insolation for\n",
    "# each point in the normalized PV energy timeseries\n",
    "normalized, insolation = rdtools.normalize_with_expected_power(df['power_ac'],\n",
    "                                                               modeled_power,\n",
    "                                                               df['poa'])\n",
    "\n",
    "df['normalized'] = normalized\n",
    "df['insolation'] = insolation\n",
    "\n",
    "# Plot the normalized power time series\n",
    "fig, ax = plt.subplots()\n",
    "ax.plot(normalized.index, normalized, 'o', alpha = 0.05)\n",
    "ax.set_ylim(0,2)\n",
    "fig.autofmt_xdate()\n",
    "ax.set_ylabel('Normalized energy');"
   ]
  },
  {
   "cell_type": "markdown",
   "metadata": {},
   "source": [
    "## 2: Filter\n",
    "\n",
    "Data filtering is used to exclude data points that represent invalid data, create bias in the analysis, or introduce significant noise.\n",
    "\n",
    "It can also be useful to remove outages and outliers. Sometimes outages appear as low but non-zero yield. Automatic functions for outage detection are not yet included in `rdtools`.  However, this example does filter out data points where the normalized energy is less than 1%.  System-specific filters should be implemented by the analyst if needed."
   ]
  },
  {
   "cell_type": "code",
   "execution_count": null,
   "metadata": {},
   "outputs": [],
   "source": [
    "# Calculate a collection of boolean masks that can be used\n",
    "# to filter the time series\n",
    "normalized_mask = rdtools.normalized_filter(df['normalized'])\n",
    "poa_mask = rdtools.poa_filter(df['poa'])\n",
    "tcell_mask = rdtools.tcell_filter(df['Tcell'])\n",
    "# Note: This clipping mask may be disabled when you are sure the system is not \n",
    "# experiencing clipping due to high DC/AC ratio\n",
    "clip_mask = rdtools.clip_filter(df['power_ac'])\n",
    "\n",
    "# filter the time series and keep only the columns needed for the\n",
    "# remaining steps\n",
    "filtered = df[normalized_mask & poa_mask & tcell_mask & clip_mask]\n",
    "filtered = filtered[['insolation', 'normalized']]\n",
    "\n",
    "fig, ax = plt.subplots()\n",
    "ax.plot(filtered.index, filtered.normalized, 'o', alpha = 0.05)\n",
    "ax.set_ylim(0,2)\n",
    "fig.autofmt_xdate()\n",
    "ax.set_ylabel('Normalized energy');"
   ]
  },
  {
   "cell_type": "markdown",
   "metadata": {},
   "source": [
    "## 3: Aggregate\n",
    "\n",
    "Data is aggregated with an irradiance weighted average. This can be useful, for example with daily aggregation, to reduce the impact of high-error data points in the morning and evening."
   ]
  },
  {
   "cell_type": "code",
   "execution_count": null,
   "metadata": {},
   "outputs": [],
   "source": [
    "daily = rdtools.aggregation_insol(filtered.normalized, filtered.insolation,\n",
    "                                  frequency = 'D')\n",
    "\n",
    "fig, ax = plt.subplots()\n",
    "ax.plot(daily.index, daily, 'o', alpha = 0.1)\n",
    "ax.set_ylim(0,2)\n",
    "fig.autofmt_xdate()\n",
    "ax.set_ylabel('Normalized energy');"
   ]
  },
  {
   "cell_type": "markdown",
   "metadata": {},
   "source": [
    "## 4: Degradation calculation\n",
    "\n",
    "Data is then analyzed to estimate the degradation rate representing the PV system behavior. The results are visualized and statistics are reported, including the 68.2% confidence interval, and the P95 exceedance value."
   ]
  },
  {
   "cell_type": "code",
   "execution_count": null,
   "metadata": {
    "tags": [
     "nbsphinx-thumbnail"
    ]
   },
   "outputs": [],
   "source": [
    "# Calculate the degradation rate using the YoY method\n",
    "yoy_rd, yoy_ci, yoy_info = rdtools.degradation_year_on_year(daily, confidence_level=68.2)\n",
    "# Note the default confidence_level of 68.2 is appropriate if you would like to \n",
    "# report a confidence interval analogous to the standard deviation of a normal\n",
    "# distribution. The size of the confidence interval is adjustable by setting the\n",
    "# confidence_level variable.\n",
    "\n",
    "# Visualize the results\n",
    "\n",
    "degradation_fig = rdtools.degradation_summary_plots(\n",
    "    yoy_rd, yoy_ci, yoy_info, daily,\n",
    "    summary_title='Sensor-based degradation results',\n",
    "    scatter_ymin=0.5, scatter_ymax=1.1,\n",
    "    hist_xmin=-30, hist_xmax=45, bins=100\n",
    ")"
   ]
  },
  {
   "cell_type": "markdown",
   "metadata": {},
   "source": [
    "In addition to the confidence interval, the year-on-year method yields an exceedance value (e.g. P95), the degradation rate that was exceeded (slower degradation) with a given probability level. The probability level is set via the `exceedance_prob` keyword in `degradation_year_on_year`."
   ]
  },
  {
   "cell_type": "code",
   "execution_count": null,
   "metadata": {},
   "outputs": [],
   "source": [
    "print('The P95 exceedance level is %.2f%%/yr' % yoy_info['exceedance_level'])"
   ]
  },
  {
   "cell_type": "markdown",
   "metadata": {},
   "source": [
    "## 5: Soiling calculations  \n",
    "\n",
    "This section illustrates how the aggregated data can be used to estimate soiling losses using the stochastic rate and recovery (SRR) method.¹ Since our example system doesn't experience much soiling, we apply an artificially generated soiling signal, just for the sake of example.\n",
    "\n",
    "¹ M. G. Deceglie, L. Micheli and M. Muller, \"Quantifying Soiling Loss Directly From PV Yield,\" IEEE Journal of Photovoltaics, vol. 8, no. 2, pp. 547-551, March 2018. doi: 10.1109/JPHOTOV.2017.2784682"
   ]
  },
  {
   "cell_type": "code",
   "execution_count": null,
   "metadata": {},
   "outputs": [],
   "source": [
    "# Apply artificial soiling signal for example\n",
    "# be sure to remove this for applications on real data,\n",
    "# and proceed with analysis on `daily` instead of `soiled_daily`\n",
    "\n",
    "soiling = df['soiling'].resample('D').mean()\n",
    "soiled_daily = soiling*daily"
   ]
  },
  {
   "cell_type": "code",
   "execution_count": null,
   "metadata": {},
   "outputs": [],
   "source": [
    "# Calculate the daily insolation, required for the SRR calculation\n",
    "daily_insolation = filtered['insolation'].resample('D').sum()\n",
    "\n",
    "# Perform the SRR calculation\n",
    "from rdtools.soiling import soiling_srr\n",
    "cl = 68.2\n",
    "sr, sr_ci, soiling_info = soiling_srr(soiled_daily, daily_insolation,\n",
    "                                      confidence_level=cl)"
   ]
  },
  {
   "cell_type": "code",
   "execution_count": null,
   "metadata": {},
   "outputs": [],
   "source": [
    "print('The P50 insolation-weighted soiling ratio is %0.3f'%sr)"
   ]
  },
  {
   "cell_type": "code",
   "execution_count": null,
   "metadata": {},
   "outputs": [],
   "source": [
    "print('The %0.1f confidence interval for the insolation-weighted'\n",
    "      ' soiling ratio is %0.3f–%0.3f'%(cl, sr_ci[0], sr_ci[1]))"
   ]
  },
  {
   "cell_type": "code",
   "execution_count": null,
   "metadata": {},
   "outputs": [],
   "source": [
    "# Plot Monte Carlo realizations of soiling profiles\n",
    "fig = rdtools.plotting.soiling_monte_carlo_plot(soiling_info, soiled_daily, profiles=200);"
   ]
  },
  {
   "cell_type": "code",
   "execution_count": null,
   "metadata": {},
   "outputs": [],
   "source": [
    "# Plot the slopes for \"valid\" soiling intervals identified,\n",
    "# assuming perfect cleaning events\n",
    "fig = rdtools.plotting.soiling_interval_plot(soiling_info, soiled_daily);"
   ]
  },
  {
   "cell_type": "code",
   "execution_count": null,
   "metadata": {},
   "outputs": [],
   "source": [
    "# View the first several rows of the soiling interval summary table\n",
    "soiling_summary = soiling_info['soiling_interval_summary']\n",
    "soiling_summary.head()"
   ]
  },
  {
   "cell_type": "code",
   "execution_count": null,
   "metadata": {},
   "outputs": [],
   "source": [
    "# View a histogram of the valid soiling rates found for the data set\n",
    "fig = rdtools.plotting.soiling_rate_histogram(soiling_info, bins=50)"
   ]
  },
  {
   "cell_type": "markdown",
   "metadata": {},
   "source": [
    "These plots show generally good results from the SRR method. In this example, we have slightly overestimated the soiling loss because we used the default behavior of the `method` key word argument in `rdtools.soiling_srr()`, which does not assume that every cleaning is perfect but the example artificial soiling signal did include perfect cleaning. We encourage you to adjust the options of `rdtools.soiling_srr()` for your application."
   ]
  },
  {
   "cell_type": "code",
   "execution_count": null,
   "metadata": {},
   "outputs": [],
   "source": [
    "# Calculate and view a monthly soiling rate summary\n",
    "from rdtools.soiling import monthly_soiling_rates\n",
    "monthly_soiling_rates(soiling_info['soiling_interval_summary'],\n",
    "                      confidence_level=cl)"
   ]
  },
  {
   "cell_type": "code",
   "execution_count": null,
   "metadata": {},
   "outputs": [],
   "source": [
    "# Calculate and view annual insolation-weighted soiling ratios and their confidence\n",
    "# intervals based on the Monte Carlo simulation. Note that these losses include the\n",
    "# assumptions of the cleaning assumptions associated with the method parameter\n",
    "# of rdtools.soiling_srr(). For anything but 'perfect_clean', each year's soiling\n",
    "# ratio may be impacted by prior years' soiling profiles. The default behavior of\n",
    "# rdtools.soiling_srr uses method='half_norm_clean'\n",
    "\n",
    "from rdtools.soiling import annual_soiling_ratios\n",
    "annual_soiling_ratios(soiling_info['stochastic_soiling_profiles'],\n",
    "                      daily_insolation,\n",
    "                      confidence_level=cl)"
   ]
  },
  {
   "cell_type": "markdown",
   "metadata": {
    "heading_collapsed": true
   },
   "source": [
    "## Clear sky workflow\n",
    "The clear sky workflow is useful in that it avoids problems due to drift or recalibration of ground-based sensors. We use `pvlib` to model the clear sky irradiance. This is renormalized to align it with ground-based measurements. Finally we use `rdtools.get_clearsky_tamb()` to model the ambient temperature on clear sky days. This modeled ambient temperature is used to model cell temperature with `pvlib`. If high quality ambient temperature data is available, that can be used instead of the modeled ambient; we proceed with the modeled ambient temperature here for illustrative purposes.\n",
    "\n",
    "In this example, note that we have omitted wind data in the cell temperature calculations for illustrative purposes. Wind data can also be included when the data source is trusted for improved results\n",
    "\n",
    "We generally recommend that the clear sky workflow be used as a check on the sensor workflow. It tends to be more sensitive than the sensor workflow, and thus we don't recommend it as a stand-alone analysis.\n",
    "\n",
    "**Note that the calculations below rely on some objects from the steps above**"
   ]
  },
  {
   "cell_type": "markdown",
   "metadata": {},
   "source": [
    "## Clear Sky 0: Preliminary Calculations"
   ]
  },
  {
   "cell_type": "code",
   "execution_count": null,
   "metadata": {},
   "outputs": [],
   "source": [
    "# Calculate the clear sky POA irradiance\n",
    "clearsky = loc.get_clearsky(df.index, solar_position=sun)\n",
    "\n",
    "cs_sky = pvlib.irradiance.isotropic(meta['tilt'], clearsky.dhi)\n",
    "cs_beam = pvlib.irradiance.beam_component(meta['tilt'], meta['azimuth'],\n",
    "                                          sun.zenith, sun.azimuth, clearsky.dni)\n",
    "df['clearsky_poa'] = cs_beam + cs_sky\n",
    "\n",
    "# Renormalize the clear sky POA irradiance\n",
    "df['clearsky_poa'] = rdtools.irradiance_rescale(df.poa, df.clearsky_poa,\n",
    "                                                method='iterative')\n",
    "\n",
    "# Calculate the clearsky temperature\n",
    "df['clearsky_Tamb'] = rdtools.get_clearsky_tamb(df.index, meta['latitude'],\n",
    "                                                meta['longitude'])\n",
    "df['clearsky_Tcell'] = pvlib.temperature.sapm_cell(df.clearsky_poa, df.clearsky_Tamb,\n",
    "                                                   0, **meta['temp_model_params'])"
   ]
  },
  {
   "cell_type": "markdown",
   "metadata": {},
   "source": [
    "## Clear Sky 1: Normalize\n",
    "Normalize as in step 1 above, but this time using clearsky modeled irradiance and cell temperature"
   ]
  },
  {
   "cell_type": "code",
   "execution_count": null,
   "metadata": {},
   "outputs": [],
   "source": [
    "# Calculate the expected power with a simple PVWatts DC model\n",
    "clearsky_modeled_power = pvlib.pvsystem.pvwatts_dc(df['clearsky_poa'],\n",
    "                                                   df['clearsky_Tcell'],\n",
    "                                                   meta['power_dc_rated'], meta['gamma_pdc'], 25.0 )\n",
    "\n",
    "# Calculate the normalization, the function also returns the relevant insolation for\n",
    "# each point in the normalized PV energy timeseries\n",
    "clearsky_normalized, clearsky_insolation = rdtools.normalize_with_expected_power(\n",
    "    df['power_ac'],\n",
    "    clearsky_modeled_power,\n",
    "    df['clearsky_poa']\n",
    ")\n",
    "\n",
    "df['clearsky_normalized'] = clearsky_normalized\n",
    "df['clearsky_insolation'] = clearsky_insolation"
   ]
  },
  {
   "cell_type": "markdown",
   "metadata": {},
   "source": [
    "## Clear Sky 2: Filter\n",
    "Filter as in step 2 above, but with the addition of a clear sky index (csi) filter so we consider only points well modeled by the clear sky irradiance model."
   ]
  },
  {
   "cell_type": "code",
   "execution_count": null,
   "metadata": {},
   "outputs": [],
   "source": [
    "# Perform clearsky filter\n",
    "cs_normalized_mask = rdtools.normalized_filter(df['clearsky_normalized'])\n",
    "cs_poa_mask = rdtools.poa_filter(df['clearsky_poa'])\n",
    "cs_tcell_mask = rdtools.tcell_filter(df['clearsky_Tcell'])\n",
    "\n",
    "csi_mask = rdtools.csi_filter(df.insolation, df.clearsky_insolation)\n",
    "\n",
    "clearsky_filtered = df[cs_normalized_mask & cs_poa_mask & cs_tcell_mask &\n",
    "                       clip_mask & csi_mask]\n",
    "clearsky_filtered = clearsky_filtered[['clearsky_insolation', 'clearsky_normalized']]"
   ]
  },
  {
   "cell_type": "markdown",
   "metadata": {},
   "source": [
    "## Clear Sky 3: Aggregate\n",
    "Aggregate the clear sky version of of the filtered data "
   ]
  },
  {
   "cell_type": "code",
   "execution_count": null,
   "metadata": {},
   "outputs": [],
   "source": [
    "clearsky_daily = rdtools.aggregation_insol(clearsky_filtered.clearsky_normalized,\n",
    "                                           clearsky_filtered.clearsky_insolation)"
   ]
  },
  {
   "cell_type": "markdown",
   "metadata": {},
   "source": [
    "## Clear Sky 4: Degradation Calculation\n",
    "Estimate the degradation rate and compare to the results obtained with sensors. In this case, we see that the degradation rate estimated with the clearsky methodology is not far off from the sensor-based estimate. "
   ]
  },
  {
   "cell_type": "code",
   "execution_count": null,
   "metadata": {},
   "outputs": [],
   "source": [
    "# Calculate the degradation rate using the YoY method\n",
    "cs_yoy_rd, cs_yoy_ci, cs_yoy_info = rdtools.degradation_year_on_year(\n",
    "    clearsky_daily,\n",
    "    confidence_level=68.2\n",
    ")\n",
    "\n",
    "# Note the default confidence_level of 68.2 is appropriate if you would like to \n",
    "# report a confidence interval analogous to the standard deviation of a normal\n",
    "# distribution. The size of the confidence interval is adjustable by setting the\n",
    "# confidence_level variable.\n",
    "\n",
    "# Visualize the results\n",
    "clearsky_fig = rdtools.degradation_summary_plots(\n",
    "    cs_yoy_rd, cs_yoy_ci, cs_yoy_info, clearsky_daily,\n",
    "    summary_title='Clear-sky-based degradation results',\n",
    "    scatter_ymin=0.5, scatter_ymax=1.1,\n",
    "    hist_xmin=-30, hist_xmax=45, plot_color='orangered',\n",
    "    bins=100);\n",
    "\n",
    "print('The P95 exceedance level with the clear sky analysis is %.2f%%/yr' %\n",
    "      cs_yoy_info['exceedance_level'])"
   ]
  },
  {
   "cell_type": "code",
   "execution_count": null,
   "metadata": {},
   "outputs": [],
   "source": [
    "# Compare to previous sensor results\n",
    "degradation_fig"
   ]
  }
 ],
 "metadata": {
  "anaconda-cloud": {},
  "kernelspec": {
   "display_name": "Python [conda env:dep_test]",
   "language": "python",
   "name": "conda-env-dep_test-py"
  },
  "language_info": {
   "codemirror_mode": {
    "name": "ipython",
    "version": 3
   },
   "file_extension": ".py",
   "mimetype": "text/x-python",
   "name": "python",
   "nbconvert_exporter": "python",
   "pygments_lexer": "ipython3",
   "version": "3.7.9"
  }
 },
 "nbformat": 4,
 "nbformat_minor": 4
}
