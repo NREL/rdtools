{
 "cells": [
  {
   "cell_type": "markdown",
   "metadata": {},
   "source": [
    "# Degradation and soiling example with clearsky workflow\n",
    "\n",
    "\n",
    "This juypter notebook is intended to the RdTools analysis workflow.  In addition, the notebook demonstrates the effects of changes in the workflow. For a consistent experience, we recommend installing the specific versions of packages used to develop this notebook. This can be achieved in your environment by running `pip install -r requirements.txt` followed by `pip install -r docs/notebook_requirements.txt` from the base directory. (RdTools must also be separately installed.) These environments and examples are tested with Python 3.7.\n",
    "\n",
    "The calculations consist of several steps illustrated here:\n",
    "<ol start=\"0\">\n",
    "  <li><b>Import and preliminary calculations</b></li>\n",
    "  <li><b>Normalize</b> data using a performance metric</li>\n",
    "  <li><b>Filter</b> data that creates bias</li>\n",
    "  <li><b>Aggregate data</b></li>\n",
    "  <li> <b>Analyze</b> aggregated data to estimate the degradation rate</li>\n",
    "  <li> <b>Analyze</b> aggregated data to estimate the soiling loss</li>\n",
    "</ol>\n",
    "\n",
    "After demonstrating these steps using sensor data, a modified version of the workflow is illustrated using modled clear sky irradiance and temperature. The results from the two methods are compared\n",
    "\n",
    "This notebook works with public data from the the Desert Knowledge Australia Solar Centre. Please download the site data from Site 12, and unzip the csv file in the folder:\n",
    "./rdtools/docs/\n",
    "\n",
    "Note this example was run with data downloaded on Sept. 28, 2018. An older version of the data gave different sensor-based results. If you have an older version of the data and are getting different results, please try redownloading the data.\n",
    "\n",
    "http://dkasolarcentre.com.au/download?location=alice-springs"
   ]
  },
  {
   "cell_type": "code",
   "execution_count": 1,
   "metadata": {},
   "outputs": [],
   "source": [
    "from datetime import timedelta\n",
    "import pandas as pd\n",
    "import matplotlib.pyplot as plt\n",
    "import numpy as np\n",
    "import pvlib\n",
    "import rdtools\n",
    "%matplotlib inline"
   ]
  },
  {
   "cell_type": "code",
   "execution_count": 2,
   "metadata": {},
   "outputs": [],
   "source": [
    "#Update the style of plots\n",
    "import matplotlib\n",
    "matplotlib.rcParams.update({'font.size': 12,\n",
    "                           'figure.figsize': [4.5, 3],\n",
    "                           'lines.markeredgewidth': 0,\n",
    "                           'lines.markersize': 2\n",
    "                           })\n",
    "# Register time series plotting in pandas > 1.0\n",
    "from pandas.plotting import register_matplotlib_converters\n",
    "register_matplotlib_converters()"
   ]
  },
  {
   "cell_type": "code",
   "execution_count": 3,
   "metadata": {},
   "outputs": [],
   "source": [
    "# Set the random seed for numpy to ensure consistent results\n",
    "np.random.seed(0)"
   ]
  },
  {
   "cell_type": "markdown",
   "metadata": {},
   "source": [
    "## 0: Import and preliminary calculations\n",
    "\n",
    "\n",
    "This section prepares the data necesary for an `rdtools` calculation. The first step of the `rdtools` workflow is normaliztion, which requires a time series of energy yield, a time series of cell temperature, and a time series of irradiance, along with some metadata (see Step 1: Normalize)\n",
    "\n",
    "The following section loads the data, adjusts units where needed, and renames the critical columns. The irradiance sensor data source is transposed to plane-of-array, and the temperature sensor data source is converted into estimated cell temperature.\n",
    "\n",
    "A common challenge is handling datasets with and without daylight savings time. Make sure to specify a `pytz` timezone that does or does not include daylight savings time as appropriate for your dataset.\n",
    "\n",
    "<b>The steps of this section may change depending on your data source or the system being considered. Note that nothing in this first section utlizes the `rdtools` library.</b> Transposition of irradiance and modeling of cell temperature are generally outside the scope of `rdtools`. A variety of tools for these calculations are avaialble in [pvlib](https://github.com/pvlib/pvlib-python)."
   ]
  },
  {
   "cell_type": "code",
   "execution_count": null,
   "metadata": {},
   "outputs": [],
   "source": [
    "file_name = '84-Site_12-BP-Solar.csv'\n",
    "\n",
    "df = pd.read_csv(file_name)\n",
    "try:\n",
    "    df.columns = [col.decode('utf-8') for col in df.columns]\n",
    "except AttributeError:\n",
    "    pass  # Python 3 strings are already unicode literals\n",
    "df = df.rename(columns = {\n",
    "    u'12 BP Solar - Active Power (kW)':'power',\n",
    "    u'12 BP Solar - Wind Speed (m/s)': 'wind_speed',\n",
    "    u'12 BP Solar - Weather Temperature Celsius (\\xb0C)': 'Tamb',\n",
    "    u'12 BP Solar - Global Horizontal Radiation (W/m\\xb2)': 'ghi',\n",
    "    u'12 BP Solar - Diffuse Horizontal Radiation (W/m\\xb2)': 'dhi'\n",
    "})\n",
    "\n",
    "# Specify the Metadata\n",
    "meta = {\"latitude\": -23.762028,\n",
    "        \"longitude\": 133.874886,\n",
    "        \"timezone\": 'Australia/North',\n",
    "        \"gamma_pdc\": -0.005,\n",
    "        \"azimuth\": 0,\n",
    "        \"tilt\": 20,\n",
    "        \"power_dc_rated\": 5100.0,\n",
    "        \"temp_model_params\": pvlib.temperature.TEMPERATURE_MODEL_PARAMETERS['sapm']['open_rack_glass_polymer']}\n",
    "\n",
    "df.index = pd.to_datetime(df.Timestamp)\n",
    "# TZ is required for irradiance transposition\n",
    "df.index = df.index.tz_localize(meta['timezone'], ambiguous = 'infer') \n",
    "\n",
    "# Explicitly trim the dates so that runs of this example notebook \n",
    "# are comparable when the sourec dataset has been downloaded at different times\n",
    "df = df['2008-11-11':'2017-05-15']\n",
    "\n",
    "# Chage power from kilowatts to watts\n",
    "df['power'] = df.power * 1000.0\n",
    "\n",
    "# There is some missing data, but we can infer the frequency from the first several data points\n",
    "freq = pd.infer_freq(df.index[:10])\n",
    "\n",
    "# Then set the frequency of the dataframe.\n",
    "# It is reccomended not to up- or downsample at this step\n",
    "# but rather to use interpolate to regularize the time series\n",
    "# to it's dominant or underlying frequency. Interpolate is not\n",
    "# generally recomended for downsampleing in this applicaiton.\n",
    "df = rdtools.interpolate(df, freq)\n",
    "\n",
    "# Calculate energy yield in Wh\n",
    "df['energy'] = rdtools.energy_from_power(df.power)\n",
    "\n",
    "# Calculate POA irradiance from DHI, GHI inputs\n",
    "loc = pvlib.location.Location(meta['latitude'], meta['longitude'], tz = meta['timezone'])\n",
    "sun = loc.get_solarposition(df.index)\n",
    "\n",
    "# calculate the POA irradiance\n",
    "sky = pvlib.irradiance.isotropic(meta['tilt'], df.dhi)\n",
    "df['dni'] = (df.ghi - df.dhi)/np.cos(np.deg2rad(sun.zenith))\n",
    "beam = pvlib.irradiance.beam_component(meta['tilt'], meta['azimuth'], sun.zenith, sun.azimuth, df.dni)\n",
    "df['poa'] = beam + sky\n",
    "\n",
    "# Calculate cell temperature\n",
    "df['Tcell'] = pvlib.temperature.sapm_cell(df.poa, df.Tamb, df.wind_speed, **meta['temp_model_params'])\n",
    "\n",
    "# plot the AC power time series\n",
    "fig, ax = plt.subplots(figsize=(4,3))\n",
    "ax.plot(df.index, df.power, 'o', alpha = 0.01)\n",
    "ax.set_ylim(0,7000)\n",
    "fig.autofmt_xdate()\n",
    "ax.set_ylabel('AC Power (W)');"
   ]
  },
  {
   "cell_type": "markdown",
   "metadata": {},
   "source": [
    "## 1: Normalize\n",
    "\n",
    "Data normalization is achieved with `rdtools.normalize_with_pvwatts()`. We provide a time sereis of energy, along with keywords used to run a pvwatts model of the system. More information available in the docstring."
   ]
  },
  {
   "cell_type": "code",
   "execution_count": null,
   "metadata": {},
   "outputs": [],
   "source": [
    "# Specify the keywords for the pvwatts model\n",
    "pvwatts_kws = {\"poa_global\" : df.poa,\n",
    "              \"power_dc_rated\" : meta['power_dc_rated'],\n",
    "              \"temperature_cell\" : df.Tcell,\n",
    "              \"poa_global_ref\" : 1000,\n",
    "              \"temperature_cell_ref\": 25,\n",
    "              \"gamma_pdc\" : meta['gamma_pdc']}\n",
    "\n",
    "# Calculate the normaliztion, the function also returns the relevant insolation for\n",
    "# each point in the normalized PV energy timeseries\n",
    "normalized, insolation = rdtools.normalize_with_pvwatts(df.energy, pvwatts_kws)\n",
    "\n",
    "df['normalized'] = normalized\n",
    "df['insolation'] = insolation\n",
    "\n",
    "# Plot the normalized power time series\n",
    "fig, ax = plt.subplots()\n",
    "ax.plot(normalized.index, normalized, 'o', alpha = 0.05)\n",
    "ax.set_ylim(0,2)\n",
    "fig.autofmt_xdate()\n",
    "ax.set_ylabel('Normalized energy');"
   ]
  },
  {
   "cell_type": "markdown",
   "metadata": {},
   "source": [
    "## 2: Filter\n",
    "\n",
    "Data filtering is used to exclude data points that represent invalid data, create bias in the analysis, or introduce significant noise.\n",
    "\n",
    "It can also be useful to remove outages and outliers. Sometimes outages appear as low but non-zero yield. Automatic functions for this are not yet included in `rdtools`. Such filters should be implimented by the analyst if needed."
   ]
  },
  {
   "cell_type": "code",
   "execution_count": null,
   "metadata": {},
   "outputs": [],
   "source": [
    "# Calculate a collection of boolean masks that can be used\n",
    "# to filter the time series\n",
    "normalized_mask = rdtools.normalized_filter(df['normalized'])\n",
    "poa_mask = rdtools.poa_filter(df['poa'])\n",
    "tcell_mask = rdtools.tcell_filter(df['Tcell'])\n",
    "clip_mask = rdtools.clip_filter(df['power'])\n",
    "\n",
    "# filter the time series and keep only the columns needed for the\n",
    "# remaining steps\n",
    "filtered = df[normalized_mask & poa_mask & tcell_mask & clip_mask]\n",
    "filtered = filtered[['insolation', 'normalized']]\n",
    "\n",
    "fig, ax = plt.subplots()\n",
    "ax.plot(filtered.index, filtered.normalized, 'o', alpha = 0.05)\n",
    "ax.set_ylim(0,2)\n",
    "fig.autofmt_xdate()\n",
    "ax.set_ylabel('Normalized energy');"
   ]
  },
  {
   "cell_type": "markdown",
   "metadata": {},
   "source": [
    "## 3: Aggregate\n",
    "\n",
    "Data is aggregated with an irradiance weighted average. This can be useful, for example with daily aggregation, to reduce the impact of high-error data points in the morning and evening."
   ]
  },
  {
   "cell_type": "code",
   "execution_count": null,
   "metadata": {},
   "outputs": [],
   "source": [
    "daily = rdtools.aggregation_insol(filtered.normalized, filtered.insolation, frequency = 'D')\n",
    "\n",
    "fig, ax = plt.subplots()\n",
    "ax.plot(daily.index, daily, 'o', alpha = 0.1)\n",
    "ax.set_ylim(0,2)\n",
    "fig.autofmt_xdate()\n",
    "ax.set_ylabel('Normalized energy');"
   ]
  },
  {
   "cell_type": "markdown",
   "metadata": {},
   "source": [
    "## 4: Degradation calculation\n",
    "\n",
    "Data is then analyzed to estimate the degradation rate representing the PV system behavior. The results are visualized and statistics are reported, including the 68.2% confidence interval, and the P95 exceedence value."
   ]
  },
  {
   "cell_type": "code",
   "execution_count": null,
   "metadata": {},
   "outputs": [],
   "source": [
    "# Calculate the degradation rate using the YoY method\n",
    "yoy_rd, yoy_ci, yoy_info = rdtools.degradation_year_on_year(daily, confidence_level=68.2)\n",
    "# Note the default confidence_level of 68.2 is approrpriate if you would like to \n",
    "# report a confidence interval analogous to the standard deviation of a normal\n",
    "# distribution. The size of the confidence interval is adjustable by setting the\n",
    "# confidence_level variable.\n",
    "\n",
    "# Visualize the results\n",
    "\n",
    "degradation_fig = rdtools.degradation_summary_plots(yoy_rd, yoy_ci, yoy_info, daily,\n",
    "                                                    summary_title='Sensor-based degradation results',\n",
    "                                                    scatter_ymin=0.5, scatter_ymax=1.1,\n",
    "                                                    hist_xmin=-30, hist_xmax=45)"
   ]
  },
  {
   "cell_type": "markdown",
   "metadata": {},
   "source": [
    "In addition to the confidence interval, the year-on-year method yields an exceedence value (e.g. P95), the degradation rate that was exceeded (slower degradation) with a given probability level. The probability level is set via the `exceedence_prob` keyword in `degradation_year_on_year`."
   ]
  },
  {
   "cell_type": "code",
   "execution_count": null,
   "metadata": {},
   "outputs": [],
   "source": [
    "print('The P95 exceedance level is %.2f%%/yr' % yoy_info['exceedance_level'])"
   ]
  },
  {
   "cell_type": "markdown",
   "metadata": {},
   "source": [
    "## 5: Soiling calculations  \n",
    "\n",
    "This section illustrates how the aggreagated data can be used to estimate soiling losses using the stochastic rate and recovery (SRR) method.<sup>1</sup>\n",
    "\n",
    "<sup>1</sup>M. G. Deceglie, L. Micheli and M. Muller, \"Quantifying Soiling Loss Directly From PV Yield,\" IEEE Journal of Photovoltaics, vol. 8, no. 2, pp. 547-551, March 2018. doi: 10.1109/JPHOTOV.2017.2784682"
   ]
  },
  {
   "cell_type": "code",
   "execution_count": null,
   "metadata": {},
   "outputs": [],
   "source": [
    "# Calculate the daily insolation, required for the SRR calculation\n",
    "daily_insolation = filtered['insolation'].resample('D').sum()\n",
    "\n",
    "# Perform the SRR calculation\n",
    "from rdtools.soiling import soiling_srr\n",
    "cl = 68.2\n",
    "sr, sr_ci, soiling_info = soiling_srr(daily, daily_insolation, confidence_level=cl)"
   ]
  },
  {
   "cell_type": "code",
   "execution_count": null,
   "metadata": {},
   "outputs": [],
   "source": [
    "print('The P50 insolation-weighted soiling ratio is %0.3f'%sr)"
   ]
  },
  {
   "cell_type": "code",
   "execution_count": null,
   "metadata": {},
   "outputs": [],
   "source": [
    "print('The %0.1f confidence interval for the insolation-weighted'\n",
    "      ' soiling ratio is %0.3f–%0.3f'%(cl, sr_ci[0], sr_ci[1]))"
   ]
  },
  {
   "cell_type": "code",
   "execution_count": null,
   "metadata": {},
   "outputs": [],
   "source": [
    "# Plot Monte Carlo realizations of soiling profiles\n",
    "fig = rdtools.plotting.soiling_monte_carlo_plot(soiling_info, daily, profiles=200);"
   ]
  },
  {
   "cell_type": "code",
   "execution_count": null,
   "metadata": {},
   "outputs": [],
   "source": [
    "# Plot the slopes for \"valid\" soiling intervals identified,\n",
    "# assuming perfect cleaning events\n",
    "fig = rdtools.plotting.soiling_interval_plot(soiling_info, daily);"
   ]
  },
  {
   "cell_type": "code",
   "execution_count": null,
   "metadata": {},
   "outputs": [],
   "source": [
    "# View the first several rows of the soiling interval summary table\n",
    "soiling_summary = soiling_info['soiling_interval_summary']\n",
    "soiling_summary.head()"
   ]
  },
  {
   "cell_type": "code",
   "execution_count": null,
   "metadata": {},
   "outputs": [],
   "source": [
    "# View a histogram of the valid soiling rates found for the data set\n",
    "fig = rdtools.plotting.soiling_rate_histogram(soiling_info, bins=15)"
   ]
  },
  {
   "cell_type": "markdown",
   "metadata": {
    "heading_collapsed": true
   },
   "source": [
    "## Clear sky workflow\n",
    "The clear sky workflow is useful in that it avoids problems due to drift or recalibration of ground-based sensors. We use `pvlib` to model the clear sky irradiance. This is renormalized to align it with ground-based measurements. Finally we use `rdtools.get_clearsky_tamb()` to model the ambient temperature on clear sky days. This modeled ambient temperature is used to model cell temperature with `pvlib`. If high quality amabient temperature data is available, that can be used instead of the modeled ambient; we proceed with the modeled ambient temperature here for illustrative purposes.\n",
    "\n",
    "In this example, note that we have omitted wind data in the cell temperature calculations for illustrative purposes. Wind data can also be included when the data source is trusted for improved results\n",
    "\n",
    "**Note that the claculations below rely on some objects from the steps above**"
   ]
  },
  {
   "cell_type": "markdown",
   "metadata": {},
   "source": [
    "## Clear Sky 0: Preliminary Calculations"
   ]
  },
  {
   "cell_type": "code",
   "execution_count": null,
   "metadata": {},
   "outputs": [],
   "source": [
    "# Calculate the clear sky POA irradiance\n",
    "clearsky = loc.get_clearsky(df.index, solar_position=sun)\n",
    "# Note: An earlier version of this notebook used pvlib<0.6. In pvlib 0.6, the default \n",
    "# behavior of get_clearsky() changed, which affects the results of this example notebook.\n",
    "# More details: https://github.com/pvlib/pvlib-python/issues/435\n",
    "cs_sky = pvlib.irradiance.isotropic(meta['tilt'], clearsky.dhi)\n",
    "cs_beam = pvlib.irradiance.beam_component(meta['tilt'], meta['azimuth'], sun.zenith, sun.azimuth, clearsky.dni)\n",
    "df['clearsky_poa'] = cs_beam + cs_sky\n",
    "\n",
    "# Renormalize the clear sky POA irradiance\n",
    "df['clearsky_poa'] = rdtools.irradiance_rescale(df.poa, df.clearsky_poa, method='iterative')\n",
    "\n",
    "# Calculate the clearsky temperature\n",
    "df['clearsky_Tamb'] = rdtools.get_clearsky_tamb(df.index, meta['latitude'], meta['longitude'])\n",
    "df['clearsky_Tcell'] = pvlib.temperature.sapm_cell(df.clearsky_poa, df.clearsky_Tamb, 0, **meta['temp_model_params'])"
   ]
  },
  {
   "cell_type": "markdown",
   "metadata": {},
   "source": [
    "## Clear Sky 1: Normalize\n",
    "Normalize as in step 1 above, but this time using clearsky modeled irradiance and cell temperature"
   ]
  },
  {
   "cell_type": "code",
   "execution_count": null,
   "metadata": {},
   "outputs": [],
   "source": [
    "clearsky_pvwatts_kws = {\"poa_global\" : df.clearsky_poa,\n",
    "              \"power_dc_rated\" : meta['power_dc_rated'],\n",
    "              \"temperature_cell\" :df.clearsky_Tcell,\n",
    "              \"poa_global_ref\" : 1000,\n",
    "              \"temperature_cell_ref\": 25,\n",
    "              \"gamma_pdc\" : meta['gamma_pdc']}\n",
    "\n",
    "clearsky_normalized, clearsky_insolation = rdtools.normalize_with_pvwatts(df.energy, clearsky_pvwatts_kws)\n",
    "\n",
    "df['clearsky_normalized'] = clearsky_normalized\n",
    "df['clearsky_insolation'] = clearsky_insolation"
   ]
  },
  {
   "cell_type": "markdown",
   "metadata": {},
   "source": [
    "## Clear Sky 2: Filter\n",
    "Filter as in step 2 above, but with the addition of a clear sky index (csi) filter so we consider only points well modeled by the clear sky irradiance model."
   ]
  },
  {
   "cell_type": "code",
   "execution_count": null,
   "metadata": {},
   "outputs": [],
   "source": [
    "# Perform clearsky filter\n",
    "cs_normalized_mask = rdtools.normalized_filter(df['clearsky_normalized'])\n",
    "cs_poa_mask = rdtools.poa_filter(df['clearsky_poa'])\n",
    "cs_tcell_mask = rdtools.tcell_filter(df['clearsky_Tcell'])\n",
    "\n",
    "csi_mask = rdtools.csi_filter(df.insolation, df.clearsky_insolation)\n",
    "\n",
    "\n",
    "clearsky_filtered = df[cs_normalized_mask & cs_poa_mask & cs_tcell_mask & clip_mask & csi_mask]\n",
    "clearsky_filtered = clearsky_filtered[['clearsky_insolation', 'clearsky_normalized']]"
   ]
  },
  {
   "cell_type": "markdown",
   "metadata": {},
   "source": [
    "## Clear Sky 3: Aggregate\n",
    "Aggregate the clear sky version of of the filtered data "
   ]
  },
  {
   "cell_type": "code",
   "execution_count": null,
   "metadata": {},
   "outputs": [],
   "source": [
    "clearsky_daily = rdtools.aggregation_insol(clearsky_filtered.clearsky_normalized, clearsky_filtered.clearsky_insolation)"
   ]
  },
  {
   "cell_type": "markdown",
   "metadata": {},
   "source": [
    "## Clear Sky 4: Degradation Calculation\n",
    "Estimate the degradation rate and compare to the results obtained with sensors. In this case, we see that irradiance sensor drift may have biased the sensor-based results, a problem that is corrected by the clear sky approach."
   ]
  },
  {
   "cell_type": "code",
   "execution_count": null,
   "metadata": {},
   "outputs": [],
   "source": [
    "# Calculate the degradation rate using the YoY method\n",
    "cs_yoy_rd, cs_yoy_ci, cs_yoy_info = rdtools.degradation_year_on_year(clearsky_daily, confidence_level=68.2)\n",
    "# Note the default confidence_level of 68.2 is approrpriate if you would like to \n",
    "# report a confidence interval analogous to the standard deviation of a normal\n",
    "# distribution. The size of the confidence interval is adjustable by setting the\n",
    "# confidence_level variable.\n",
    "\n",
    "# Visualize the results\n",
    "clearsky_fig = rdtools.degradation_summary_plots(cs_yoy_rd, cs_yoy_ci, cs_yoy_info, clearsky_daily,\n",
    "                                                    summary_title='Clear-sky-based degradation results',\n",
    "                                                    scatter_ymin=0.5, scatter_ymax=1.1,\n",
    "                                                    hist_xmin=-30, hist_xmax=45, plot_color='orangered');\n",
    "\n",
    "print('The P95 exceedance level with the clear sky analysis is %.2f%%/yr' % cs_yoy_info['exceedance_level'])"
   ]
  },
  {
   "cell_type": "code",
   "execution_count": null,
   "metadata": {},
   "outputs": [],
   "source": [
    "# Compare to previous sensor restuls\n",
    "degradation_fig"
   ]
  }
 ],
 "metadata": {
  "anaconda-cloud": {},
  "kernelspec": {
   "display_name": "Python [conda env:dep_test]",
   "language": "python",
   "name": "conda-env-dep_test-py"
  },
  "language_info": {
   "codemirror_mode": {
    "name": "ipython",
    "version": 3
   },
   "file_extension": ".py",
   "mimetype": "text/x-python",
   "name": "python",
   "nbconvert_exporter": "python",
   "pygments_lexer": "ipython3",
   "version": "3.7.9"
  }
 },
 "nbformat": 4,
 "nbformat_minor": 4
}
