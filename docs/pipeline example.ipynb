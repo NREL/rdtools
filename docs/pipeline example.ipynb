{
 "cells": [
  {
   "cell_type": "code",
   "execution_count": 1,
   "metadata": {},
   "outputs": [],
   "source": [
    "from analysis_pipeline import *"
   ]
  },
  {
   "cell_type": "code",
   "execution_count": 2,
   "metadata": {},
   "outputs": [],
   "source": [
    "system_metadata = {\n",
    "        \"latitude\": -23.762028,\n",
    "        \"longitude\": 133.874886,\n",
    "        \"tempco\": -0.005,\n",
    "        \"azimuth\": 0,\n",
    "        \"tilt\": 20,\n",
    "        \"pdc\": 5100.0,\n",
    "        \"temp_model\": 'open_rack_cell_polymerback',\n",
    "        \"systemid\": 42,\n",
    "        \"timezone\": 'Australia/Darwin'\n",
    "}"
   ]
  },
  {
   "cell_type": "code",
   "execution_count": 3,
   "metadata": {},
   "outputs": [],
   "source": [
    "filename = 'docs/84-Site_12-BP-Solar.csv'"
   ]
  },
  {
   "cell_type": "code",
   "execution_count": 4,
   "metadata": {},
   "outputs": [],
   "source": [
    "rd = AnalysisPipeline(filename, system_metadata, clearsky=True)"
   ]
  },
  {
   "cell_type": "code",
   "execution_count": 5,
   "metadata": {},
   "outputs": [
    {
     "name": "stdout",
     "output_type": "stream",
     "text": [
      "2019-06-25 12:44:03,616|root|INFO| processing data\n",
      "2019-06-25 12:44:03,927|root|INFO| Inferred frequency = 5T\n",
      "2019-06-25 12:44:04,205|root|INFO| setting poa and cell temperature from pvlib\n",
      "2019-06-25 12:44:12,849|root|INFO| Normalizing energy using PVWatts\n",
      "2019-06-25 12:44:15,608|root|INFO| removing outliers\n",
      "2019-06-25 12:44:15,787|root|INFO| Calculating clearsky poa and cell temperature from pvlib\n"
     ]
    },
    {
     "name": "stderr",
     "output_type": "stream",
     "text": [
      "/anaconda3/envs/degrade3/lib/python3.7/site-packages/pandas/core/indexes/base.py:2820: FutureWarning: Converting timezone-aware DatetimeArray to timezone-naive ndarray with 'datetime64[ns]' dtype. In the future, this will return an ndarray with 'object' dtype where each element is a 'pandas.Timestamp' with the correct 'tz'.\n",
      "\tTo accept the future behavior, pass 'dtype=object'.\n",
      "\tTo keep the old behavior, pass 'dtype=\"datetime64[ns]\"'.\n",
      "  target = np.asarray(target)\n"
     ]
    },
    {
     "name": "stdout",
     "output_type": "stream",
     "text": [
      "2019-06-25 12:44:41,538|root|INFO| calculating year on year degradation from weather data\n",
      "2019-06-25 12:44:42,939|root|INFO| calculating year on year degradation using clearsky variables\n"
     ]
    },
    {
     "data": {
      "text/plain": [
       "{42: (-0.44594247659344166,\n",
       "  array([-0.50520902, -0.35284832]),\n",
       "  -0.32234086001960427,\n",
       "  array([-0.4464961 , -0.17134366]))}"
      ]
     },
     "execution_count": 5,
     "metadata": {},
     "output_type": "execute_result"
    }
   ],
   "source": [
    "rd.calculate_yoy_degradation(confidence_level=68.2)"
   ]
  },
  {
   "cell_type": "code",
   "execution_count": null,
   "metadata": {},
   "outputs": [],
   "source": []
  }
 ],
 "metadata": {
  "kernelspec": {
   "display_name": "Python 3",
   "language": "python",
   "name": "python3"
  },
  "language_info": {
   "codemirror_mode": {
    "name": "ipython",
    "version": 3
   },
   "file_extension": ".py",
   "mimetype": "text/x-python",
   "name": "python",
   "nbconvert_exporter": "python",
   "pygments_lexer": "ipython3",
   "version": "3.7.3"
  }
 },
 "nbformat": 4,
 "nbformat_minor": 2
}
