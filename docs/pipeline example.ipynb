{
 "cells": [
  {
   "cell_type": "code",
   "execution_count": 1,
   "metadata": {},
   "outputs": [],
   "source": [
    "%load_ext autoreload\n",
    "%autoreload 2"
   ]
  },
  {
   "cell_type": "code",
   "execution_count": 2,
   "metadata": {},
   "outputs": [],
   "source": [
    "from analysis_pipeline import *"
   ]
  },
  {
   "cell_type": "code",
   "execution_count": 32,
   "metadata": {},
   "outputs": [],
   "source": [
    "system_metadata = {\n",
    "        \"latitude\": -23.762028,\n",
    "        \"longitude\": 133.874886,\n",
    "        \"tempco\": -0.005,\n",
    "        \"azimuth\": 0,\n",
    "        \"tilt\": 20,\n",
    "        \"pdc\": 5300.0,\n",
    "        \"temp_model\": 'open_rack_cell_polymerback',\n",
    "        \"systemid\": 42,\n",
    "        \"timezone\": 'Australia/Darwin'\n",
    "}"
   ]
  },
  {
   "cell_type": "code",
   "execution_count": 30,
   "metadata": {},
   "outputs": [],
   "source": [
    "filename = 'docs/84-Site_12-BP-Solar.csv'"
   ]
  },
  {
   "cell_type": "code",
   "execution_count": 33,
   "metadata": {},
   "outputs": [],
   "source": [
    "rd = AnalysisPipeline(filename, system_metadata, clearsky=True)"
   ]
  },
  {
   "cell_type": "code",
   "execution_count": 34,
   "metadata": {},
   "outputs": [
    {
     "name": "stdout",
     "output_type": "stream",
     "text": [
      "2019-06-24 13:22:59,898|root|INFO| processing data\n",
      "2019-06-24 13:23:00,177|root|INFO| Inferred frequency = 5T\n",
      "2019-06-24 13:23:00,466|root|INFO| setting poa and cell temperature from pvlib\n",
      "2019-06-24 13:23:06,128|root|INFO| Normalizing energy using PVWatts\n",
      "2019-06-24 13:23:06,468|root|INFO| removed outliers\n",
      "2019-06-24 13:23:06,469|root|INFO| Calculating clearsky poa and cell temperature from pvlib\n"
     ]
    },
    {
     "name": "stderr",
     "output_type": "stream",
     "text": [
      "/anaconda3/envs/degrade3/lib/python3.7/site-packages/pandas/core/indexes/base.py:2820: FutureWarning: Converting timezone-aware DatetimeArray to timezone-naive ndarray with 'datetime64[ns]' dtype. In the future, this will return an ndarray with 'object' dtype where each element is a 'pandas.Timestamp' with the correct 'tz'.\n",
      "\tTo accept the future behavior, pass 'dtype=object'.\n",
      "\tTo keep the old behavior, pass 'dtype=\"datetime64[ns]\"'.\n",
      "  target = np.asarray(target)\n"
     ]
    },
    {
     "name": "stdout",
     "output_type": "stream",
     "text": [
      "2019-06-24 13:23:27,485|root|INFO| calculating year on year degradation from weather data\n",
      "2019-06-24 13:23:28,891|root|INFO| calculating year on year degradation using clearsky variables\n"
     ]
    },
    {
     "data": {
      "text/plain": [
       "{42: (-0.4395029242614257,\n",
       "  array([-0.52889203, -0.34737912]),\n",
       "  -0.19187661575337928,\n",
       "  array([-0.34997896, -0.09141052]))}"
      ]
     },
     "execution_count": 34,
     "metadata": {},
     "output_type": "execute_result"
    }
   ],
   "source": [
    "rd.calculate_yoy_degradation()"
   ]
  }
 ],
 "metadata": {
  "kernelspec": {
   "display_name": "Python 3",
   "language": "python",
   "name": "python3"
  },
  "language_info": {
   "codemirror_mode": {
    "name": "ipython",
    "version": 3
   },
   "file_extension": ".py",
   "mimetype": "text/x-python",
   "name": "python",
   "nbconvert_exporter": "python",
   "pygments_lexer": "ipython3",
   "version": "3.7.3"
  }
 },
 "nbformat": 4,
 "nbformat_minor": 2
}
